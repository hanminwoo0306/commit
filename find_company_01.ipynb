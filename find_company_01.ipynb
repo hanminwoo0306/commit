{
 "cells": [
  {
   "cell_type": "code",
   "execution_count": 52,
   "metadata": {},
   "outputs": [
    {
     "data": {
      "text/plain": [
       "'0.25.1'"
      ]
     },
     "execution_count": 52,
     "metadata": {},
     "output_type": "execute_result"
    }
   ],
   "source": [
    "pd.__version__"
   ]
  },
  {
   "cell_type": "code",
   "execution_count": 62,
   "metadata": {},
   "outputs": [
    {
     "name": "stdout",
     "output_type": "stream",
     "text": [
      "3824\n",
      "Index(['회사명', '종목코드', '업종', '주요제품', '상장일', '결산월', '대표자명', '홈페이지', '지역'], dtype='object')\n"
     ]
    }
   ],
   "source": [
    "import pandas as pd\n",
    "import numpy as np\n",
    "\n",
    "dfs = pd.read_html('http://kind.krx.co.kr/corpgeneral/corpList.do?method=download&searchType=1', header=0)\n",
    "df = dfs[0].copy()\n",
    "\n",
    "print(len(df))\n",
    "print(df.columns)"
   ]
  },
  {
   "cell_type": "code",
   "execution_count": 66,
   "metadata": {},
   "outputs": [
    {
     "data": {
      "text/html": [
       "<div>\n",
       "<style scoped>\n",
       "    .dataframe tbody tr th:only-of-type {\n",
       "        vertical-align: middle;\n",
       "    }\n",
       "\n",
       "    .dataframe tbody tr th {\n",
       "        vertical-align: top;\n",
       "    }\n",
       "\n",
       "    .dataframe thead th {\n",
       "        text-align: right;\n",
       "    }\n",
       "</style>\n",
       "<table border=\"1\" class=\"dataframe\">\n",
       "  <thead>\n",
       "    <tr style=\"text-align: right;\">\n",
       "      <th></th>\n",
       "      <th>회사명</th>\n",
       "      <th>종목코드</th>\n",
       "      <th>업종</th>\n",
       "      <th>상장일</th>\n",
       "    </tr>\n",
       "  </thead>\n",
       "  <tbody>\n",
       "    <tr>\n",
       "      <td>0</td>\n",
       "      <td>JS전선</td>\n",
       "      <td>5560</td>\n",
       "      <td>절연선 및 케이블 제조업</td>\n",
       "      <td>2007-11-12</td>\n",
       "    </tr>\n",
       "    <tr>\n",
       "      <td>1</td>\n",
       "      <td>거북선2호</td>\n",
       "      <td>101380</td>\n",
       "      <td>NaN</td>\n",
       "      <td>2008-04-25</td>\n",
       "    </tr>\n",
       "    <tr>\n",
       "      <td>2</td>\n",
       "      <td>거북선6호</td>\n",
       "      <td>114140</td>\n",
       "      <td>NaN</td>\n",
       "      <td>2009-10-01</td>\n",
       "    </tr>\n",
       "    <tr>\n",
       "      <td>3</td>\n",
       "      <td>교보메리츠</td>\n",
       "      <td>64900</td>\n",
       "      <td>NaN</td>\n",
       "      <td>2002-01-30</td>\n",
       "    </tr>\n",
       "    <tr>\n",
       "      <td>4</td>\n",
       "      <td>국제관광공사</td>\n",
       "      <td>28780</td>\n",
       "      <td>NaN</td>\n",
       "      <td>1966-03-18</td>\n",
       "    </tr>\n",
       "    <tr>\n",
       "      <td>...</td>\n",
       "      <td>...</td>\n",
       "      <td>...</td>\n",
       "      <td>...</td>\n",
       "      <td>...</td>\n",
       "    </tr>\n",
       "    <tr>\n",
       "      <td>95</td>\n",
       "      <td>교보성공파트너크린앤</td>\n",
       "      <td>35980</td>\n",
       "      <td>NaN</td>\n",
       "      <td>1999-10-29</td>\n",
       "    </tr>\n",
       "    <tr>\n",
       "      <td>96</td>\n",
       "      <td>국제종합토건</td>\n",
       "      <td>24860</td>\n",
       "      <td>NaN</td>\n",
       "      <td>1996-07-01</td>\n",
       "    </tr>\n",
       "    <tr>\n",
       "      <td>97</td>\n",
       "      <td>굿라이프10-MF</td>\n",
       "      <td>37510</td>\n",
       "      <td>신탁업 및 집합투자업</td>\n",
       "      <td>2000-02-25</td>\n",
       "    </tr>\n",
       "    <tr>\n",
       "      <td>98</td>\n",
       "      <td>글로웍스</td>\n",
       "      <td>34600</td>\n",
       "      <td>부동산 임대 및 공급업</td>\n",
       "      <td>1999-12-07</td>\n",
       "    </tr>\n",
       "    <tr>\n",
       "      <td>99</td>\n",
       "      <td>네이쳐글로벌</td>\n",
       "      <td>88020</td>\n",
       "      <td>반도체 제조업</td>\n",
       "      <td>2006-12-19</td>\n",
       "    </tr>\n",
       "  </tbody>\n",
       "</table>\n",
       "<p>100 rows × 4 columns</p>\n",
       "</div>"
      ],
      "text/plain": [
       "           회사명    종목코드             업종         상장일\n",
       "0         JS전선    5560  절연선 및 케이블 제조업  2007-11-12\n",
       "1        거북선2호  101380            NaN  2008-04-25\n",
       "2        거북선6호  114140            NaN  2009-10-01\n",
       "3        교보메리츠   64900            NaN  2002-01-30\n",
       "4       국제관광공사   28780            NaN  1966-03-18\n",
       "..         ...     ...            ...         ...\n",
       "95  교보성공파트너크린앤   35980            NaN  1999-10-29\n",
       "96      국제종합토건   24860            NaN  1996-07-01\n",
       "97   굿라이프10-MF   37510    신탁업 및 집합투자업  2000-02-25\n",
       "98        글로웍스   34600   부동산 임대 및 공급업  1999-12-07\n",
       "99      네이쳐글로벌   88020        반도체 제조업  2006-12-19\n",
       "\n",
       "[100 rows x 4 columns]"
      ]
     },
     "execution_count": 66,
     "metadata": {},
     "output_type": "execute_result"
    }
   ],
   "source": [
    "df = df[['회사명', '종목코드', '업종', '상장일']]\n",
    "df.head(100)"
   ]
  },
  {
   "cell_type": "code",
   "execution_count": null,
   "metadata": {},
   "outputs": [],
   "source": []
  }
 ],
 "metadata": {
  "kernelspec": {
   "display_name": "Python 3",
   "language": "python",
   "name": "python3"
  },
  "language_info": {
   "codemirror_mode": {
    "name": "ipython",
    "version": 3
   },
   "file_extension": ".py",
   "mimetype": "text/x-python",
   "name": "python",
   "nbconvert_exporter": "python",
   "pygments_lexer": "ipython3",
   "version": "3.7.4"
  }
 },
 "nbformat": 4,
 "nbformat_minor": 2
}
